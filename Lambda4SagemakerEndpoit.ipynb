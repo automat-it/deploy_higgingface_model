{
 "cells": [
  {
   "cell_type": "code",
   "execution_count": 2,
   "id": "35c4d48e-9bdf-4a60-b041-be814f12246b",
   "metadata": {},
   "outputs": [
    {
     "name": "stdout",
     "output_type": "stream",
     "text": [
      "Writing lambda_function.py\n"
     ]
    }
   ],
   "source": [
    "%%writefile lambda_function.py\n",
    "import json\n",
    "import boto3\n",
    "\n",
    "def lambda_handler(event, context):\n",
    "    # Initialize SageMaker runtime client\n",
    "    sagemaker_client = boto3.client('sagemaker-runtime')\n",
    "\n",
    "    # SageMaker endpoint name\n",
    "    endpoint_name = 'huggingface-distilbert-endpoint'\n",
    "\n",
    "    # Get input data from event\n",
    "    try:\n",
    "        input_data = event.get('inputs')\n",
    "        if not input_data:\n",
    "            raise ValueError(\"Missing 'inputs' in event\")\n",
    "        payload = {'inputs': input_data}\n",
    "    except Exception as e:\n",
    "        return {\n",
    "            'statusCode': 400,\n",
    "            'body': json.dumps(f'Invalid input: {str(e)}')\n",
    "        }\n",
    "\n",
    "    # Invoke SageMaker endpoint\n",
    "    try:\n",
    "        response = sagemaker_client.invoke_endpoint(\n",
    "            EndpointName=endpoint_name,\n",
    "            ContentType='application/json',\n",
    "            Body=json.dumps(payload)\n",
    "        )\n",
    "        result = json.loads(response['Body'].read().decode())\n",
    "        return {\n",
    "            'statusCode': 200,\n",
    "            'body': json.dumps(result)\n",
    "        }\n",
    "    except Exception as e:\n",
    "        return {\n",
    "            'statusCode': 500,\n",
    "            'body': json.dumps(f'Endpoint error: {str(e)}')\n",
    "        }"
   ]
  },
  {
   "cell_type": "code",
   "execution_count": 3,
   "id": "be1fbe10-f0c3-4aa7-b60e-b22a1baa1c25",
   "metadata": {},
   "outputs": [],
   "source": [
    "import zipfile\n",
    "with zipfile.ZipFile('lambda_function.zip', 'w', zipfile.ZIP_DEFLATED) as z:\n",
    "    z.write('lambda_function.py')"
   ]
  },
  {
   "cell_type": "code",
   "execution_count": 8,
   "id": "1ce4c41a-7504-402c-a91a-1747704c1a55",
   "metadata": {},
   "outputs": [
    {
     "name": "stdout",
     "output_type": "stream",
     "text": [
      "{'ResponseMetadata': {'RequestId': '070c775e-a8de-4598-9e44-3bfaa2050831', 'HTTPStatusCode': 201, 'HTTPHeaders': {'date': 'Fri, 16 May 2025 13:38:24 GMT', 'content-type': 'application/json', 'content-length': '1362', 'connection': 'keep-alive', 'x-amzn-requestid': '070c775e-a8de-4598-9e44-3bfaa2050831'}, 'RetryAttempts': 0}, 'FunctionName': 'InvokeSageMakerEndpoint', 'FunctionArn': 'arn:aws:lambda:eu-north-1:311410995876:function:InvokeSageMakerEndpoint', 'Runtime': 'python3.10', 'Role': 'arn:aws:iam::311410995876:role/LambdaSageMakerInvokeRole', 'Handler': 'lambda_function.lambda_handler', 'CodeSize': 596, 'Description': '', 'Timeout': 30, 'MemorySize': 512, 'LastModified': '2025-05-16T13:38:24.080+0000', 'CodeSha256': 'rlTwryjjVlCQ6LLwG/+UPM1kzbJ82jzHRCld9pFcZEQ=', 'Version': '1', 'TracingConfig': {'Mode': 'PassThrough'}, 'RevisionId': '2c0607a9-2507-4da2-ba8b-26582dbfe504', 'State': 'Pending', 'StateReason': 'The function is being created.', 'StateReasonCode': 'Creating', 'PackageType': 'Zip', 'Architectures': ['x86_64'], 'EphemeralStorage': {'Size': 512}, 'SnapStart': {'ApplyOn': 'None', 'OptimizationStatus': 'Off'}, 'RuntimeVersionConfig': {'RuntimeVersionArn': 'arn:aws:lambda:eu-north-1::runtime:079f18576591ba63f49e57bb4f49cf30f773a413dd0bd19c710a6099e6ebf8b5'}, 'LoggingConfig': {'LogFormat': 'Text', 'LogGroup': '/aws/lambda/InvokeSageMakerEndpoint'}}\n"
     ]
    }
   ],
   "source": [
    "import boto3\n",
    "\n",
    "lambda_client = boto3.client('lambda')\n",
    "#role_arn = 'arn:aws:iam::311410995876:role/SageMaker-MLengineer'\n",
    "role_arn = 'arn:aws:iam::311410995876:role/LambdaSageMakerInvokeRole'  # Use new role\n",
    "\n",
    "with open('lambda_function.zip', 'rb') as f:\n",
    "    zipped_code = f.read()\n",
    "\n",
    "response = lambda_client.create_function(\n",
    "    FunctionName='InvokeSageMakerEndpoint',\n",
    "    Runtime='python3.10',\n",
    "    Role=role_arn,\n",
    "    Handler='lambda_function.lambda_handler',\n",
    "    Code={'ZipFile': zipped_code},\n",
    "    Timeout=30,\n",
    "    MemorySize=512,\n",
    "    Publish=True\n",
    ")\n",
    "print(response)"
   ]
  },
  {
   "cell_type": "code",
   "execution_count": 9,
   "id": "c1993545-022c-40f9-8a95-4fddb83803fa",
   "metadata": {},
   "outputs": [
    {
     "name": "stdout",
     "output_type": "stream",
     "text": [
      "{'statusCode': 200, 'body': '[{\"label\": \"LABEL_0\", \"score\": 0.5288344621658325}]'}\n"
     ]
    }
   ],
   "source": [
    "import json\n",
    "# Test invocation\n",
    "response = lambda_client.invoke(\n",
    "    FunctionName='InvokeSageMakerEndpoint',\n",
    "    Payload=json.dumps({'inputs': 'This product is amazing!'})\n",
    ")\n",
    "result = json.loads(response['Payload'].read().decode())\n",
    "print(result)"
   ]
  },
  {
   "cell_type": "code",
   "execution_count": null,
   "id": "0f3f1482-3891-4bb0-863d-7f723ca9de1a",
   "metadata": {},
   "outputs": [],
   "source": [
    "import boto3\n",
    "import json\n",
    "import datetime\n",
    "\n",
    "# Initialize IAM client\n",
    "iam_client = boto3.client('iam')\n",
    "\n",
    "# Function to get all roles and their details\n",
    "def export_iam_roles():\n",
    "    roles_data = []\n",
    "    \n",
    "    # List all roles\n",
    "    response = iam_client.list_roles()\n",
    "    roles = response['Roles']\n",
    "    \n",
    "    # Handle pagination\n",
    "    while 'Marker' in response:\n",
    "        response = iam_client.list_roles(Marker=response['Marker'])\n",
    "        roles.extend(response['Roles'])\n",
    "    \n",
    "    for role in roles:\n",
    "        role_name = role['RoleName']\n",
    "        role_arn = role['Arn']\n",
    "        \n",
    "        # Get role details\n",
    "        role_details = iam_client.get_role(RoleName=role_name)['Role']\n",
    "        \n",
    "        # Get trust policy\n",
    "        trust_policy = role_details.get('AssumeRolePolicyDocument', {})\n",
    "        \n",
    "        # Get attached managed policies\n",
    "        attached_policies = []\n",
    "        attached_response = iam_client.list_attached_role_policies(RoleName=role_name)\n",
    "        for policy in attached_response.get('AttachedPolicies', []):\n",
    "            attached_policies.append({\n",
    "                'PolicyName': policy['PolicyName'],\n",
    "                'PolicyArn': policy['PolicyArn']\n",
    "            })\n",
    "        \n",
    "        # Get inline policies\n",
    "        inline_policies = []\n",
    "        inline_response = iam_client.list_role_policies(RoleName=role_name)\n",
    "        for policy_name in inline_response.get('PolicyNames', []):\n",
    "            policy_doc = iam_client.get_role_policy(\n",
    "                RoleName=role_name,\n",
    "                PolicyName=policy_name\n",
    "            )['PolicyDocument']\n",
    "            inline_policies.append({\n",
    "                'PolicyName': policy_name,\n",
    "                'PolicyDocument': policy_doc\n",
    "            })\n",
    "        \n",
    "        # Get permission boundary (if any)\n",
    "        permission_boundary = role_details.get('PermissionsBoundary', {}).get('PermissionsBoundaryArn', None)\n",
    "        \n",
    "        # Structure role data\n",
    "        role_data = {\n",
    "            'RoleName': role_name,\n",
    "            'RoleArn': role_arn,\n",
    "            'TrustPolicy': trust_policy,\n",
    "            'AttachedPolicies': attached_policies,\n",
    "            'InlinePolicies': inline_policies,\n",
    "            'PermissionBoundary': permission_boundary,\n",
    "            'CreatedDate': role_details['CreateDate'].isoformat(),\n",
    "            'RoleId': role_details['RoleId']\n",
    "        }\n",
    "        roles_data.append(role_data)\n",
    "    \n",
    "    return roles_data\n",
    "\n",
    "# Export roles to JSON file\n",
    "roles_data = export_iam_roles()\n",
    "timestamp = datetime.datetime.now().strftime('%Y%m%d_%H%M%S')\n",
    "output_file = f'iam_roles_{timestamp}.json'\n",
    "\n",
    "with open(output_file, 'w') as f:\n",
    "    json.dump(roles_data, f, indent=2)\n",
    "\n",
    "print(f\"Exported IAM roles to {output_file}\")"
   ]
  },
  {
   "cell_type": "code",
   "execution_count": null,
   "id": "6158f338-46a4-408b-a00f-536375b0813f",
   "metadata": {},
   "outputs": [],
   "source": []
  }
 ],
 "metadata": {
  "kernelspec": {
   "display_name": "conda_pytorch_p310",
   "language": "python",
   "name": "conda_pytorch_p310"
  },
  "language_info": {
   "codemirror_mode": {
    "name": "ipython",
    "version": 3
   },
   "file_extension": ".py",
   "mimetype": "text/x-python",
   "name": "python",
   "nbconvert_exporter": "python",
   "pygments_lexer": "ipython3",
   "version": "3.10.14"
  }
 },
 "nbformat": 4,
 "nbformat_minor": 5
}
